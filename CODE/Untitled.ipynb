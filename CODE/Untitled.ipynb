{
 "cells": [
  {
   "cell_type": "code",
   "execution_count": 1,
   "id": "4d18aa98-bc78-4b8a-85ca-ad136609b7c6",
   "metadata": {},
   "outputs": [
    {
     "data": {
      "text/plain": [
       "['__add__',\n",
       " '__class__',\n",
       " '__contains__',\n",
       " '__delattr__',\n",
       " '__dir__',\n",
       " '__doc__',\n",
       " '__eq__',\n",
       " '__format__',\n",
       " '__ge__',\n",
       " '__getattribute__',\n",
       " '__getitem__',\n",
       " '__getnewargs__',\n",
       " '__getstate__',\n",
       " '__gt__',\n",
       " '__hash__',\n",
       " '__init__',\n",
       " '__init_subclass__',\n",
       " '__iter__',\n",
       " '__le__',\n",
       " '__len__',\n",
       " '__lt__',\n",
       " '__mod__',\n",
       " '__mul__',\n",
       " '__ne__',\n",
       " '__new__',\n",
       " '__reduce__',\n",
       " '__reduce_ex__',\n",
       " '__repr__',\n",
       " '__rmod__',\n",
       " '__rmul__',\n",
       " '__setattr__',\n",
       " '__sizeof__',\n",
       " '__str__',\n",
       " '__subclasshook__',\n",
       " 'capitalize',\n",
       " 'casefold',\n",
       " 'center',\n",
       " 'count',\n",
       " 'encode',\n",
       " 'endswith',\n",
       " 'expandtabs',\n",
       " 'find',\n",
       " 'format',\n",
       " 'format_map',\n",
       " 'index',\n",
       " 'isalnum',\n",
       " 'isalpha',\n",
       " 'isascii',\n",
       " 'isdecimal',\n",
       " 'isdigit',\n",
       " 'isidentifier',\n",
       " 'islower',\n",
       " 'isnumeric',\n",
       " 'isprintable',\n",
       " 'isspace',\n",
       " 'istitle',\n",
       " 'isupper',\n",
       " 'join',\n",
       " 'ljust',\n",
       " 'lower',\n",
       " 'lstrip',\n",
       " 'maketrans',\n",
       " 'partition',\n",
       " 'removeprefix',\n",
       " 'removesuffix',\n",
       " 'replace',\n",
       " 'rfind',\n",
       " 'rindex',\n",
       " 'rjust',\n",
       " 'rpartition',\n",
       " 'rsplit',\n",
       " 'rstrip',\n",
       " 'split',\n",
       " 'splitlines',\n",
       " 'startswith',\n",
       " 'strip',\n",
       " 'swapcase',\n",
       " 'title',\n",
       " 'translate',\n",
       " 'upper',\n",
       " 'zfill']"
      ]
     },
     "execution_count": 1,
     "metadata": {},
     "output_type": "execute_result"
    }
   ],
   "source": [
    "dir(str)"
   ]
  },
  {
   "cell_type": "code",
   "execution_count": 22,
   "id": "4725de5f-862b-422b-9071-1cd782925767",
   "metadata": {},
   "outputs": [
    {
     "data": {
      "text/plain": [
       "'Himariam'"
      ]
     },
     "execution_count": 22,
     "metadata": {},
     "output_type": "execute_result"
    }
   ],
   "source": [
    "x= \"himariam\"\n",
    "x.capitalize()"
   ]
  },
  {
   "cell_type": "code",
   "execution_count": 23,
   "id": "e80f0d32-049d-47fd-99e9-d1f69e2761f5",
   "metadata": {},
   "outputs": [
    {
     "data": {
      "text/plain": [
       "'himariam'"
      ]
     },
     "execution_count": 23,
     "metadata": {},
     "output_type": "execute_result"
    }
   ],
   "source": [
    "x.casefold()"
   ]
  },
  {
   "cell_type": "code",
   "execution_count": 24,
   "id": "7b796bc5-119a-4a99-8302-6f245b763343",
   "metadata": {},
   "outputs": [
    {
     "data": {
      "text/plain": [
       "'**himariam**'"
      ]
     },
     "execution_count": 24,
     "metadata": {},
     "output_type": "execute_result"
    }
   ],
   "source": [
    "x.center(12,\"*\")"
   ]
  },
  {
   "cell_type": "code",
   "execution_count": 25,
   "id": "8918aeed-00d1-4d59-8553-abf1afd8ffd3",
   "metadata": {},
   "outputs": [
    {
     "data": {
      "text/plain": [
       "1"
      ]
     },
     "execution_count": 25,
     "metadata": {},
     "output_type": "execute_result"
    }
   ],
   "source": [
    "x.count(\"ia\")"
   ]
  },
  {
   "cell_type": "code",
   "execution_count": 26,
   "id": "15937a6b-bd46-481b-bc05-407daa6c7f70",
   "metadata": {},
   "outputs": [
    {
     "data": {
      "text/plain": [
       "'himariam'"
      ]
     },
     "execution_count": 26,
     "metadata": {},
     "output_type": "execute_result"
    }
   ],
   "source": [
    "x.expandtabs(5)"
   ]
  },
  {
   "cell_type": "code",
   "execution_count": 27,
   "id": "1e1398e0-8159-438b-9746-a6cc88418d4f",
   "metadata": {},
   "outputs": [
    {
     "data": {
      "text/plain": [
       "-1"
      ]
     },
     "execution_count": 27,
     "metadata": {},
     "output_type": "execute_result"
    }
   ],
   "source": [
    "x.find(\"x\")"
   ]
  },
  {
   "cell_type": "code",
   "execution_count": 28,
   "id": "48cf2697-cf0f-4d5a-a97b-e3b0ab237c1e",
   "metadata": {},
   "outputs": [
    {
     "data": {
      "text/plain": [
       "1"
      ]
     },
     "execution_count": 28,
     "metadata": {},
     "output_type": "execute_result"
    }
   ],
   "source": [
    "x.index(\"i\")"
   ]
  },
  {
   "cell_type": "code",
   "execution_count": 29,
   "id": "b30e0496-1550-42eb-889f-a190399cb772",
   "metadata": {},
   "outputs": [
    {
     "data": {
      "text/plain": [
       "True"
      ]
     },
     "execution_count": 29,
     "metadata": {},
     "output_type": "execute_result"
    }
   ],
   "source": [
    "x.isalnum()"
   ]
  },
  {
   "cell_type": "code",
   "execution_count": 30,
   "id": "93e80c4d-0819-4ae6-909f-d11e9bca68ec",
   "metadata": {},
   "outputs": [
    {
     "data": {
      "text/plain": [
       "True"
      ]
     },
     "execution_count": 30,
     "metadata": {},
     "output_type": "execute_result"
    }
   ],
   "source": [
    "x.isalpha()"
   ]
  },
  {
   "cell_type": "code",
   "execution_count": null,
   "id": "9aeb380f-28ce-496d-affa-ab0d524dc8e6",
   "metadata": {},
   "outputs": [],
   "source": []
  },
  {
   "cell_type": "code",
   "execution_count": 31,
   "id": "6634eb88-ec85-405d-8082-dd7af0d44115",
   "metadata": {},
   "outputs": [
    {
     "data": {
      "text/plain": [
       "'.'"
      ]
     },
     "execution_count": 31,
     "metadata": {},
     "output_type": "execute_result"
    }
   ],
   "source": [
    "x.join(\".\")"
   ]
  },
  {
   "cell_type": "code",
   "execution_count": 32,
   "id": "e4b6804c-122b-4b66-9179-9f40d585a9e9",
   "metadata": {},
   "outputs": [
    {
     "data": {
      "text/plain": [
       "'himariam'"
      ]
     },
     "execution_count": 32,
     "metadata": {},
     "output_type": "execute_result"
    }
   ],
   "source": [
    "x"
   ]
  },
  {
   "cell_type": "code",
   "execution_count": 37,
   "id": "6f6c832c-fd8f-4c6a-a2ac-5dc0548b8373",
   "metadata": {},
   "outputs": [
    {
     "data": {
      "text/plain": [
       "'h.i.m.a.r.i.a.m'"
      ]
     },
     "execution_count": 37,
     "metadata": {},
     "output_type": "execute_result"
    }
   ],
   "source": [
    "\".\".join(x)"
   ]
  },
  {
   "cell_type": "code",
   "execution_count": 39,
   "id": "9e15eae9-ac3d-455e-bfac-1c296ebf9c84",
   "metadata": {},
   "outputs": [
    {
     "data": {
      "text/plain": [
       "'imariam'"
      ]
     },
     "execution_count": 39,
     "metadata": {},
     "output_type": "execute_result"
    }
   ],
   "source": [
    "x.strip(\"h\")"
   ]
  },
  {
   "cell_type": "code",
   "execution_count": 41,
   "id": "4b20bac6-7023-45d4-a860-96eff85b7e87",
   "metadata": {},
   "outputs": [
    {
     "ename": "TypeError",
     "evalue": "if you give only one argument to maketrans it must be a dict",
     "output_type": "error",
     "traceback": [
      "\u001b[1;31m---------------------------------------------------------------------------\u001b[0m",
      "\u001b[1;31mTypeError\u001b[0m                                 Traceback (most recent call last)",
      "Cell \u001b[1;32mIn[41], line 1\u001b[0m\n\u001b[1;32m----> 1\u001b[0m \u001b[43mx\u001b[49m\u001b[38;5;241;43m.\u001b[39;49m\u001b[43mmaketrans\u001b[49m\u001b[43m(\u001b[49m\u001b[38;5;124;43m\"\u001b[39;49m\u001b[38;5;124;43mutf-8\u001b[39;49m\u001b[38;5;124;43m\"\u001b[39;49m\u001b[43m)\u001b[49m\n",
      "\u001b[1;31mTypeError\u001b[0m: if you give only one argument to maketrans it must be a dict"
     ]
    }
   ],
   "source": [
    "x.maketrans(\"utf-8\")"
   ]
  },
  {
   "cell_type": "code",
   "execution_count": 42,
   "id": "24633b9f-8383-41ff-b951-7e3c35a1e837",
   "metadata": {},
   "outputs": [
    {
     "data": {
      "text/plain": [
       "'mariam'"
      ]
     },
     "execution_count": 42,
     "metadata": {},
     "output_type": "execute_result"
    }
   ],
   "source": [
    "x.removeprefix(\"hi\")"
   ]
  },
  {
   "cell_type": "code",
   "execution_count": 43,
   "id": "9f74d341-8c9e-43bc-8850-2a9d3fe20eff",
   "metadata": {},
   "outputs": [
    {
     "data": {
      "text/plain": [
       "'himariam'"
      ]
     },
     "execution_count": 43,
     "metadata": {},
     "output_type": "execute_result"
    }
   ],
   "source": [
    "x"
   ]
  },
  {
   "cell_type": "code",
   "execution_count": 47,
   "id": "28cef7dd-a378-4c8c-881b-1065e70c892f",
   "metadata": {},
   "outputs": [
    {
     "data": {
      "text/plain": [
       "'hi mariam'"
      ]
     },
     "execution_count": 47,
     "metadata": {},
     "output_type": "execute_result"
    }
   ],
   "source": [
    "x = \"hihi mariam\"\n",
    "x.removeprefix(\"hi\")"
   ]
  },
  {
   "cell_type": "code",
   "execution_count": 46,
   "id": "9333200d-845f-4ac8-bd7b-0ef8b5ddad0b",
   "metadata": {},
   "outputs": [
    {
     "data": {
      "text/plain": [
       "'hi mariam'"
      ]
     },
     "execution_count": 46,
     "metadata": {},
     "output_type": "execute_result"
    }
   ],
   "source": [
    "x.lstrip(\" \")"
   ]
  },
  {
   "cell_type": "code",
   "execution_count": 48,
   "id": "12203d4b-a074-4abe-83f4-8fc2e47e6315",
   "metadata": {},
   "outputs": [
    {
     "data": {
      "text/plain": [
       "'xx mariam'"
      ]
     },
     "execution_count": 48,
     "metadata": {},
     "output_type": "execute_result"
    }
   ],
   "source": [
    "x.replace(\"hi\",\"x\")"
   ]
  },
  {
   "cell_type": "code",
   "execution_count": 49,
   "id": "a97a807f-fc27-4357-a8a8-f0b338dbdf60",
   "metadata": {},
   "outputs": [
    {
     "data": {
      "text/plain": [
       "['hihi mariam']"
      ]
     },
     "execution_count": 49,
     "metadata": {},
     "output_type": "execute_result"
    }
   ],
   "source": [
    "x.splitlines()"
   ]
  },
  {
   "cell_type": "code",
   "execution_count": 50,
   "id": "a56e63e8-58b9-4b58-9ec1-2baad78b2eab",
   "metadata": {},
   "outputs": [
    {
     "data": {
      "text/plain": [
       "'Hihi Mariam'"
      ]
     },
     "execution_count": 50,
     "metadata": {},
     "output_type": "execute_result"
    }
   ],
   "source": [
    "x.title()"
   ]
  },
  {
   "cell_type": "code",
   "execution_count": 51,
   "id": "718085fe-b093-4a7d-9423-9b304c23bc26",
   "metadata": {},
   "outputs": [
    {
     "data": {
      "text/plain": [
       "'000000000hihi mariam'"
      ]
     },
     "execution_count": 51,
     "metadata": {},
     "output_type": "execute_result"
    }
   ],
   "source": [
    "x.zfill(20)"
   ]
  },
  {
   "cell_type": "code",
   "execution_count": 52,
   "id": "9ff9c637-5f5a-4382-ae77-5cce68d4865f",
   "metadata": {},
   "outputs": [],
   "source": [
    "x= \"\"\"\n",
    "eslam \n",
    "yasser \n",
    "fathy \n",
    "amine\n",
    "\"\"\""
   ]
  },
  {
   "cell_type": "code",
   "execution_count": 53,
   "id": "39e76cc3-881f-4194-ba68-7c0a389da3a0",
   "metadata": {},
   "outputs": [
    {
     "data": {
      "text/plain": [
       "['', 'eslam ', 'yasser ', 'fathy ', 'amine']"
      ]
     },
     "execution_count": 53,
     "metadata": {},
     "output_type": "execute_result"
    }
   ],
   "source": [
    "x.splitlines()"
   ]
  },
  {
   "cell_type": "code",
   "execution_count": null,
   "id": "a6bc24e0-c3d2-4465-80ab-89e45d910771",
   "metadata": {},
   "outputs": [],
   "source": []
  }
 ],
 "metadata": {
  "kernelspec": {
   "display_name": "Python 3 (ipykernel)",
   "language": "python",
   "name": "python3"
  },
  "language_info": {
   "codemirror_mode": {
    "name": "ipython",
    "version": 3
   },
   "file_extension": ".py",
   "mimetype": "text/x-python",
   "name": "python",
   "nbconvert_exporter": "python",
   "pygments_lexer": "ipython3",
   "version": "3.11.7"
  }
 },
 "nbformat": 4,
 "nbformat_minor": 5
}
